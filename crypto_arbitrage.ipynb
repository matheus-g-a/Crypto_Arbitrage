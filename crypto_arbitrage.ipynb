{
 "cells": [
  {
   "cell_type": "markdown",
   "metadata": {},
   "source": [
    "## Crypto Arbitrage\n",
    "\n",
    "In this Challenge, you'll take on the role of an analyst at a high-tech investment firm. The vice president (VP) of your department is considering arbitrage opportunities in Bitcoin and other cryptocurrencies. As Bitcoin trades on markets across the globe, can you capitalize on simultaneous price dislocations in those markets by using the powers of Pandas?\n",
    "\n",
    "For this assignment, you’ll sort through historical trade data for Bitcoin on two exchanges: Bitstamp and Coinbase. Your task is to apply the three phases of financial analysis to determine if any arbitrage opportunities exist for Bitcoin.\n",
    "\n",
    "This aspect of the Challenge will consist of 3 phases.\n",
    "\n",
    "1. Collect the data.\n",
    "\n",
    "2. Prepare the data.\n",
    "\n",
    "3. Analyze the data. \n",
    "\n"
   ]
  },
  {
   "cell_type": "markdown",
   "metadata": {},
   "source": [
    "###  Import the required libraries and dependencies."
   ]
  },
  {
   "cell_type": "code",
   "execution_count": 166,
   "metadata": {},
   "outputs": [],
   "source": [
    "import pandas as pd\n",
    "from pathlib import Path\n",
    "%matplotlib inline\n"
   ]
  },
  {
   "cell_type": "markdown",
   "metadata": {},
   "source": [
    "## Collect the Data\n",
    "\n",
    "To collect the data that you’ll need, complete the following steps:\n",
    "\n",
    "Instructions. \n",
    "\n",
    "1. Using the Pandas `read_csv` function and the `Path` module, import the data from `bitstamp.csv` file, and create a DataFrame called `bitstamp`. Set the DatetimeIndex as the Timestamp column, and be sure to parse and format the dates.\n",
    "\n",
    "2. Use the `head` (and/or the `tail`) function to confirm that Pandas properly imported the data.\n",
    "\n",
    "3. Repeat Steps 1 and 2 for `coinbase.csv` file."
   ]
  },
  {
   "cell_type": "markdown",
   "metadata": {},
   "source": [
    "### Step 1: Using the Pandas `read_csv` function and the `Path` module, import the data from `bitstamp.csv` file, and create a DataFrame called `bitstamp`. Set the DatetimeIndex as the Timestamp column, and be sure to parse and format the dates."
   ]
  },
  {
   "cell_type": "code",
   "execution_count": 167,
   "metadata": {},
   "outputs": [],
   "source": [
    "# Read in the CSV file called \"bitstamp.csv\" using the Path module. \n",
    "# The CSV file is located in the Resources folder.\n",
    "# Set the index to the column \"Date\"\n",
    "# Set the parse_dates and infer_datetime_format parameters\n",
    "bitstamp = pd.read_csv(Path (\"Resources/bitstamp.csv\"),\n",
    "                      index_col = \"Timestamp\",\n",
    "                      parse_dates = True,\n",
    "                      infer_datetime_format = True)\n"
   ]
  },
  {
   "cell_type": "markdown",
   "metadata": {},
   "source": [
    "### Step 2: Use the `head` (and/or the `tail`) function to confirm that Pandas properly imported the data."
   ]
  },
  {
   "cell_type": "code",
   "execution_count": 168,
   "metadata": {},
   "outputs": [
    {
     "data": {
      "text/html": [
       "<div>\n",
       "<style scoped>\n",
       "    .dataframe tbody tr th:only-of-type {\n",
       "        vertical-align: middle;\n",
       "    }\n",
       "\n",
       "    .dataframe tbody tr th {\n",
       "        vertical-align: top;\n",
       "    }\n",
       "\n",
       "    .dataframe thead th {\n",
       "        text-align: right;\n",
       "    }\n",
       "</style>\n",
       "<table border=\"1\" class=\"dataframe\">\n",
       "  <thead>\n",
       "    <tr style=\"text-align: right;\">\n",
       "      <th></th>\n",
       "      <th>Open</th>\n",
       "      <th>High</th>\n",
       "      <th>Low</th>\n",
       "      <th>Close</th>\n",
       "      <th>BTC Volume</th>\n",
       "      <th>USD Volume</th>\n",
       "      <th>Weighted Price</th>\n",
       "    </tr>\n",
       "    <tr>\n",
       "      <th>Timestamp</th>\n",
       "      <th></th>\n",
       "      <th></th>\n",
       "      <th></th>\n",
       "      <th></th>\n",
       "      <th></th>\n",
       "      <th></th>\n",
       "      <th></th>\n",
       "    </tr>\n",
       "  </thead>\n",
       "  <tbody>\n",
       "    <tr>\n",
       "      <th>2015-12-31 19:01:00</th>\n",
       "      <td>430.89</td>\n",
       "      <td>430.89</td>\n",
       "      <td>430.89</td>\n",
       "      <td>$430.89</td>\n",
       "      <td>0.080631</td>\n",
       "      <td>34.743096</td>\n",
       "      <td>430.890000</td>\n",
       "    </tr>\n",
       "    <tr>\n",
       "      <th>2015-12-31 19:02:00</th>\n",
       "      <td>430.89</td>\n",
       "      <td>430.89</td>\n",
       "      <td>430.89</td>\n",
       "      <td>$430.89</td>\n",
       "      <td>0.143257</td>\n",
       "      <td>61.728095</td>\n",
       "      <td>430.890000</td>\n",
       "    </tr>\n",
       "    <tr>\n",
       "      <th>2015-12-31 19:03:00</th>\n",
       "      <td>NaN</td>\n",
       "      <td>NaN</td>\n",
       "      <td>NaN</td>\n",
       "      <td>$nan</td>\n",
       "      <td>NaN</td>\n",
       "      <td>NaN</td>\n",
       "      <td>NaN</td>\n",
       "    </tr>\n",
       "    <tr>\n",
       "      <th>2015-12-31 19:04:00</th>\n",
       "      <td>430.19</td>\n",
       "      <td>431.06</td>\n",
       "      <td>430.19</td>\n",
       "      <td>$431.06</td>\n",
       "      <td>1.032161</td>\n",
       "      <td>444.627575</td>\n",
       "      <td>430.773269</td>\n",
       "    </tr>\n",
       "    <tr>\n",
       "      <th>2015-12-31 19:05:00</th>\n",
       "      <td>431.06</td>\n",
       "      <td>432.11</td>\n",
       "      <td>430.21</td>\n",
       "      <td>$430.54</td>\n",
       "      <td>5.558156</td>\n",
       "      <td>2397.461993</td>\n",
       "      <td>431.341280</td>\n",
       "    </tr>\n",
       "  </tbody>\n",
       "</table>\n",
       "</div>"
      ],
      "text/plain": [
       "                       Open    High     Low    Close  BTC Volume   USD Volume  \\\n",
       "Timestamp                                                                       \n",
       "2015-12-31 19:01:00  430.89  430.89  430.89  $430.89    0.080631    34.743096   \n",
       "2015-12-31 19:02:00  430.89  430.89  430.89  $430.89    0.143257    61.728095   \n",
       "2015-12-31 19:03:00     NaN     NaN     NaN     $nan         NaN          NaN   \n",
       "2015-12-31 19:04:00  430.19  431.06  430.19  $431.06    1.032161   444.627575   \n",
       "2015-12-31 19:05:00  431.06  432.11  430.21  $430.54    5.558156  2397.461993   \n",
       "\n",
       "                     Weighted Price  \n",
       "Timestamp                            \n",
       "2015-12-31 19:01:00      430.890000  \n",
       "2015-12-31 19:02:00      430.890000  \n",
       "2015-12-31 19:03:00             NaN  \n",
       "2015-12-31 19:04:00      430.773269  \n",
       "2015-12-31 19:05:00      431.341280  "
      ]
     },
     "execution_count": 168,
     "metadata": {},
     "output_type": "execute_result"
    }
   ],
   "source": [
    "# Use the head (and/or tail) function to confirm that the data was imported properly.\n",
    "# YOUR CODE HERE\n",
    "bitstamp.head()\n"
   ]
  },
  {
   "cell_type": "markdown",
   "metadata": {},
   "source": [
    "### Step 3: Repeat Steps 1 and 2 for `coinbase.csv` file."
   ]
  },
  {
   "cell_type": "code",
   "execution_count": 169,
   "metadata": {},
   "outputs": [],
   "source": [
    "# Read in the CSV file called \"coinbase.csv\" using the Path module. \n",
    "# The CSV file is located in the Resources folder.\n",
    "# Set the index to the column \"Timestamp\"\n",
    "# Set the parse_dates and infer_datetime_format parameters\n",
    "coinbase =  pd.read_csv(Path (\"Resources/coinbase.csv\"),\n",
    "                      index_col = \"Timestamp\",\n",
    "                      parse_dates = True,\n",
    "                      infer_datetime_format = True)"
   ]
  },
  {
   "cell_type": "code",
   "execution_count": 170,
   "metadata": {},
   "outputs": [
    {
     "data": {
      "text/html": [
       "<div>\n",
       "<style scoped>\n",
       "    .dataframe tbody tr th:only-of-type {\n",
       "        vertical-align: middle;\n",
       "    }\n",
       "\n",
       "    .dataframe tbody tr th {\n",
       "        vertical-align: top;\n",
       "    }\n",
       "\n",
       "    .dataframe thead th {\n",
       "        text-align: right;\n",
       "    }\n",
       "</style>\n",
       "<table border=\"1\" class=\"dataframe\">\n",
       "  <thead>\n",
       "    <tr style=\"text-align: right;\">\n",
       "      <th></th>\n",
       "      <th>Open</th>\n",
       "      <th>High</th>\n",
       "      <th>Low</th>\n",
       "      <th>Close</th>\n",
       "      <th>BTC Volume</th>\n",
       "      <th>USD Volume</th>\n",
       "      <th>Weighted Price</th>\n",
       "    </tr>\n",
       "    <tr>\n",
       "      <th>Timestamp</th>\n",
       "      <th></th>\n",
       "      <th></th>\n",
       "      <th></th>\n",
       "      <th></th>\n",
       "      <th></th>\n",
       "      <th></th>\n",
       "      <th></th>\n",
       "    </tr>\n",
       "  </thead>\n",
       "  <tbody>\n",
       "    <tr>\n",
       "      <th>2015-12-31 19:01:00</th>\n",
       "      <td>430.38</td>\n",
       "      <td>430.40</td>\n",
       "      <td>430.38</td>\n",
       "      <td>$430.4</td>\n",
       "      <td>0.947800</td>\n",
       "      <td>407.924370</td>\n",
       "      <td>430.390768</td>\n",
       "    </tr>\n",
       "    <tr>\n",
       "      <th>2015-12-31 19:02:00</th>\n",
       "      <td>430.40</td>\n",
       "      <td>430.40</td>\n",
       "      <td>430.40</td>\n",
       "      <td>$430.4</td>\n",
       "      <td>1.633400</td>\n",
       "      <td>703.015360</td>\n",
       "      <td>430.400000</td>\n",
       "    </tr>\n",
       "    <tr>\n",
       "      <th>2015-12-31 19:03:00</th>\n",
       "      <td>430.39</td>\n",
       "      <td>430.39</td>\n",
       "      <td>430.36</td>\n",
       "      <td>$430.36</td>\n",
       "      <td>12.566300</td>\n",
       "      <td>5408.313368</td>\n",
       "      <td>430.382322</td>\n",
       "    </tr>\n",
       "    <tr>\n",
       "      <th>2015-12-31 19:04:00</th>\n",
       "      <td>430.39</td>\n",
       "      <td>430.39</td>\n",
       "      <td>430.39</td>\n",
       "      <td>$430.39</td>\n",
       "      <td>1.953000</td>\n",
       "      <td>840.551670</td>\n",
       "      <td>430.390000</td>\n",
       "    </tr>\n",
       "    <tr>\n",
       "      <th>2015-12-31 19:05:00</th>\n",
       "      <td>430.40</td>\n",
       "      <td>430.96</td>\n",
       "      <td>430.40</td>\n",
       "      <td>$430.96</td>\n",
       "      <td>12.114161</td>\n",
       "      <td>5216.297064</td>\n",
       "      <td>430.595001</td>\n",
       "    </tr>\n",
       "  </tbody>\n",
       "</table>\n",
       "</div>"
      ],
      "text/plain": [
       "                       Open    High     Low    Close  BTC Volume   USD Volume  \\\n",
       "Timestamp                                                                       \n",
       "2015-12-31 19:01:00  430.38  430.40  430.38   $430.4    0.947800   407.924370   \n",
       "2015-12-31 19:02:00  430.40  430.40  430.40   $430.4    1.633400   703.015360   \n",
       "2015-12-31 19:03:00  430.39  430.39  430.36  $430.36   12.566300  5408.313368   \n",
       "2015-12-31 19:04:00  430.39  430.39  430.39  $430.39    1.953000   840.551670   \n",
       "2015-12-31 19:05:00  430.40  430.96  430.40  $430.96   12.114161  5216.297064   \n",
       "\n",
       "                     Weighted Price  \n",
       "Timestamp                            \n",
       "2015-12-31 19:01:00      430.390768  \n",
       "2015-12-31 19:02:00      430.400000  \n",
       "2015-12-31 19:03:00      430.382322  \n",
       "2015-12-31 19:04:00      430.390000  \n",
       "2015-12-31 19:05:00      430.595001  "
      ]
     },
     "execution_count": 170,
     "metadata": {},
     "output_type": "execute_result"
    }
   ],
   "source": [
    "# Use the head (and/or tail) function to confirm that the data was imported properly.\n",
    "coinbase.head()\n"
   ]
  },
  {
   "cell_type": "markdown",
   "metadata": {},
   "source": [
    "## Prepare the Data\n",
    "\n",
    "To prepare and clean your data for analysis, complete the following steps:\n",
    "\n",
    "1. For the bitstamp DataFrame, replace or drop all `NaN`, or missing, values in the DataFrame.\n",
    "\n",
    "2. Use the `str.replace` function to remove the dollar signs ($) from the values in the Close column.\n",
    "\n",
    "3. Convert the data type of the Close column to a `float`.\n",
    "\n",
    "4. Review the data for duplicated values, and drop them if necessary.\n",
    "\n",
    "5. Repeat Steps 1–4 for the coinbase DataFrame."
   ]
  },
  {
   "cell_type": "markdown",
   "metadata": {},
   "source": [
    "### Step 1: For the bitstamp DataFrame, replace or drop all `NaN`, or missing, values in the DataFrame."
   ]
  },
  {
   "cell_type": "code",
   "execution_count": 171,
   "metadata": {},
   "outputs": [
    {
     "data": {
      "text/html": [
       "<div>\n",
       "<style scoped>\n",
       "    .dataframe tbody tr th:only-of-type {\n",
       "        vertical-align: middle;\n",
       "    }\n",
       "\n",
       "    .dataframe tbody tr th {\n",
       "        vertical-align: top;\n",
       "    }\n",
       "\n",
       "    .dataframe thead th {\n",
       "        text-align: right;\n",
       "    }\n",
       "</style>\n",
       "<table border=\"1\" class=\"dataframe\">\n",
       "  <thead>\n",
       "    <tr style=\"text-align: right;\">\n",
       "      <th></th>\n",
       "      <th>Open</th>\n",
       "      <th>High</th>\n",
       "      <th>Low</th>\n",
       "      <th>Close</th>\n",
       "      <th>BTC Volume</th>\n",
       "      <th>USD Volume</th>\n",
       "      <th>Weighted Price</th>\n",
       "    </tr>\n",
       "    <tr>\n",
       "      <th>Timestamp</th>\n",
       "      <th></th>\n",
       "      <th></th>\n",
       "      <th></th>\n",
       "      <th></th>\n",
       "      <th></th>\n",
       "      <th></th>\n",
       "      <th></th>\n",
       "    </tr>\n",
       "  </thead>\n",
       "  <tbody>\n",
       "    <tr>\n",
       "      <th>2015-12-31 19:01:00</th>\n",
       "      <td>430.89</td>\n",
       "      <td>430.89</td>\n",
       "      <td>430.89</td>\n",
       "      <td>$430.89</td>\n",
       "      <td>0.080631</td>\n",
       "      <td>34.743096</td>\n",
       "      <td>430.890000</td>\n",
       "    </tr>\n",
       "    <tr>\n",
       "      <th>2015-12-31 19:02:00</th>\n",
       "      <td>430.89</td>\n",
       "      <td>430.89</td>\n",
       "      <td>430.89</td>\n",
       "      <td>$430.89</td>\n",
       "      <td>0.143257</td>\n",
       "      <td>61.728095</td>\n",
       "      <td>430.890000</td>\n",
       "    </tr>\n",
       "    <tr>\n",
       "      <th>2015-12-31 19:04:00</th>\n",
       "      <td>430.19</td>\n",
       "      <td>431.06</td>\n",
       "      <td>430.19</td>\n",
       "      <td>$431.06</td>\n",
       "      <td>1.032161</td>\n",
       "      <td>444.627575</td>\n",
       "      <td>430.773269</td>\n",
       "    </tr>\n",
       "    <tr>\n",
       "      <th>2015-12-31 19:05:00</th>\n",
       "      <td>431.06</td>\n",
       "      <td>432.11</td>\n",
       "      <td>430.21</td>\n",
       "      <td>$430.54</td>\n",
       "      <td>5.558156</td>\n",
       "      <td>2397.461993</td>\n",
       "      <td>431.341280</td>\n",
       "    </tr>\n",
       "    <tr>\n",
       "      <th>2015-12-31 19:06:00</th>\n",
       "      <td>432.53</td>\n",
       "      <td>432.53</td>\n",
       "      <td>431.48</td>\n",
       "      <td>$432.52</td>\n",
       "      <td>4.117318</td>\n",
       "      <td>1776.650476</td>\n",
       "      <td>431.506725</td>\n",
       "    </tr>\n",
       "  </tbody>\n",
       "</table>\n",
       "</div>"
      ],
      "text/plain": [
       "                       Open    High     Low    Close  BTC Volume   USD Volume  \\\n",
       "Timestamp                                                                       \n",
       "2015-12-31 19:01:00  430.89  430.89  430.89  $430.89    0.080631    34.743096   \n",
       "2015-12-31 19:02:00  430.89  430.89  430.89  $430.89    0.143257    61.728095   \n",
       "2015-12-31 19:04:00  430.19  431.06  430.19  $431.06    1.032161   444.627575   \n",
       "2015-12-31 19:05:00  431.06  432.11  430.21  $430.54    5.558156  2397.461993   \n",
       "2015-12-31 19:06:00  432.53  432.53  431.48  $432.52    4.117318  1776.650476   \n",
       "\n",
       "                     Weighted Price  \n",
       "Timestamp                            \n",
       "2015-12-31 19:01:00      430.890000  \n",
       "2015-12-31 19:02:00      430.890000  \n",
       "2015-12-31 19:04:00      430.773269  \n",
       "2015-12-31 19:05:00      431.341280  \n",
       "2015-12-31 19:06:00      431.506725  "
      ]
     },
     "execution_count": 171,
     "metadata": {},
     "output_type": "execute_result"
    }
   ],
   "source": [
    "# For the bitstamp DataFrame, replace or drop all NaNs or missing values in the DataFrame\n",
    "# YOUR CODE HERE\n",
    "bitstamp = bitstamp.dropna()\n",
    "bitstamp.head()"
   ]
  },
  {
   "cell_type": "markdown",
   "metadata": {},
   "source": [
    "### Step 2: Use the `str.replace` function to remove the dollar signs ($) from the values in the Close column."
   ]
  },
  {
   "cell_type": "code",
   "execution_count": 172,
   "metadata": {},
   "outputs": [],
   "source": [
    "# Use the str.replace function to remove the dollar sign, $\n",
    "bitstamp[\"Close\"] = bitstamp[\"Close\"].str.replace(\"$\", \"\")"
   ]
  },
  {
   "cell_type": "markdown",
   "metadata": {},
   "source": [
    "### Step 3: Convert the data type of the Close column to a `float`."
   ]
  },
  {
   "cell_type": "code",
   "execution_count": 173,
   "metadata": {},
   "outputs": [],
   "source": [
    "# Convert the Close data type to a float\n",
    "# YOUR CODE HERE\n",
    "bitstamp[\"Close\"]  = bitstamp[\"Close\"].astype(\"float\")"
   ]
  },
  {
   "cell_type": "markdown",
   "metadata": {},
   "source": [
    "### Step 4: Review the data for duplicated values, and drop them if necessary."
   ]
  },
  {
   "cell_type": "code",
   "execution_count": 174,
   "metadata": {},
   "outputs": [],
   "source": [
    "# Review the data forA duplicate values, and drop them if necessary\n",
    "bitstamp.duplicated().sum()\n",
    "\n",
    "bitstamp = bitstamp.drop_duplicates().copy()"
   ]
  },
  {
   "cell_type": "markdown",
   "metadata": {},
   "source": [
    "### Step 5: Repeat Steps 1–4 for the coinbase DataFrame."
   ]
  },
  {
   "cell_type": "code",
   "execution_count": 175,
   "metadata": {},
   "outputs": [
    {
     "data": {
      "text/html": [
       "<div>\n",
       "<style scoped>\n",
       "    .dataframe tbody tr th:only-of-type {\n",
       "        vertical-align: middle;\n",
       "    }\n",
       "\n",
       "    .dataframe tbody tr th {\n",
       "        vertical-align: top;\n",
       "    }\n",
       "\n",
       "    .dataframe thead th {\n",
       "        text-align: right;\n",
       "    }\n",
       "</style>\n",
       "<table border=\"1\" class=\"dataframe\">\n",
       "  <thead>\n",
       "    <tr style=\"text-align: right;\">\n",
       "      <th></th>\n",
       "      <th>Open</th>\n",
       "      <th>High</th>\n",
       "      <th>Low</th>\n",
       "      <th>Close</th>\n",
       "      <th>BTC Volume</th>\n",
       "      <th>USD Volume</th>\n",
       "      <th>Weighted Price</th>\n",
       "    </tr>\n",
       "    <tr>\n",
       "      <th>Timestamp</th>\n",
       "      <th></th>\n",
       "      <th></th>\n",
       "      <th></th>\n",
       "      <th></th>\n",
       "      <th></th>\n",
       "      <th></th>\n",
       "      <th></th>\n",
       "    </tr>\n",
       "  </thead>\n",
       "  <tbody>\n",
       "    <tr>\n",
       "      <th>2015-12-31 19:01:00</th>\n",
       "      <td>430.38</td>\n",
       "      <td>430.40</td>\n",
       "      <td>430.38</td>\n",
       "      <td>$430.4</td>\n",
       "      <td>0.947800</td>\n",
       "      <td>407.924370</td>\n",
       "      <td>430.390768</td>\n",
       "    </tr>\n",
       "    <tr>\n",
       "      <th>2015-12-31 19:02:00</th>\n",
       "      <td>430.40</td>\n",
       "      <td>430.40</td>\n",
       "      <td>430.40</td>\n",
       "      <td>$430.4</td>\n",
       "      <td>1.633400</td>\n",
       "      <td>703.015360</td>\n",
       "      <td>430.400000</td>\n",
       "    </tr>\n",
       "    <tr>\n",
       "      <th>2015-12-31 19:03:00</th>\n",
       "      <td>430.39</td>\n",
       "      <td>430.39</td>\n",
       "      <td>430.36</td>\n",
       "      <td>$430.36</td>\n",
       "      <td>12.566300</td>\n",
       "      <td>5408.313368</td>\n",
       "      <td>430.382322</td>\n",
       "    </tr>\n",
       "    <tr>\n",
       "      <th>2015-12-31 19:04:00</th>\n",
       "      <td>430.39</td>\n",
       "      <td>430.39</td>\n",
       "      <td>430.39</td>\n",
       "      <td>$430.39</td>\n",
       "      <td>1.953000</td>\n",
       "      <td>840.551670</td>\n",
       "      <td>430.390000</td>\n",
       "    </tr>\n",
       "    <tr>\n",
       "      <th>2015-12-31 19:05:00</th>\n",
       "      <td>430.40</td>\n",
       "      <td>430.96</td>\n",
       "      <td>430.40</td>\n",
       "      <td>$430.96</td>\n",
       "      <td>12.114161</td>\n",
       "      <td>5216.297064</td>\n",
       "      <td>430.595001</td>\n",
       "    </tr>\n",
       "    <tr>\n",
       "      <th>...</th>\n",
       "      <td>...</td>\n",
       "      <td>...</td>\n",
       "      <td>...</td>\n",
       "      <td>...</td>\n",
       "      <td>...</td>\n",
       "      <td>...</td>\n",
       "      <td>...</td>\n",
       "    </tr>\n",
       "    <tr>\n",
       "      <th>2019-01-07 17:02:00</th>\n",
       "      <td>4006.01</td>\n",
       "      <td>4006.57</td>\n",
       "      <td>4006.00</td>\n",
       "      <td>$4006.01</td>\n",
       "      <td>3.382954</td>\n",
       "      <td>13553.433078</td>\n",
       "      <td>4006.390309</td>\n",
       "    </tr>\n",
       "    <tr>\n",
       "      <th>2019-01-07 17:03:00</th>\n",
       "      <td>4006.01</td>\n",
       "      <td>4006.57</td>\n",
       "      <td>4006.00</td>\n",
       "      <td>$4006.01</td>\n",
       "      <td>0.902164</td>\n",
       "      <td>3614.083169</td>\n",
       "      <td>4006.017233</td>\n",
       "    </tr>\n",
       "    <tr>\n",
       "      <th>2019-01-07 17:04:00</th>\n",
       "      <td>4006.01</td>\n",
       "      <td>4006.01</td>\n",
       "      <td>4006.00</td>\n",
       "      <td>$4006.01</td>\n",
       "      <td>1.192123</td>\n",
       "      <td>4775.647308</td>\n",
       "      <td>4006.003635</td>\n",
       "    </tr>\n",
       "    <tr>\n",
       "      <th>2019-01-07 17:05:00</th>\n",
       "      <td>4006.01</td>\n",
       "      <td>4006.01</td>\n",
       "      <td>4005.50</td>\n",
       "      <td>$4005.5</td>\n",
       "      <td>2.699700</td>\n",
       "      <td>10814.241898</td>\n",
       "      <td>4005.719991</td>\n",
       "    </tr>\n",
       "    <tr>\n",
       "      <th>2019-01-07 17:06:00</th>\n",
       "      <td>4005.51</td>\n",
       "      <td>4006.01</td>\n",
       "      <td>4005.51</td>\n",
       "      <td>$4005.99</td>\n",
       "      <td>1.752778</td>\n",
       "      <td>7021.183546</td>\n",
       "      <td>4005.745614</td>\n",
       "    </tr>\n",
       "  </tbody>\n",
       "</table>\n",
       "<p>1550147 rows × 7 columns</p>\n",
       "</div>"
      ],
      "text/plain": [
       "                        Open     High      Low     Close  BTC Volume  \\\n",
       "Timestamp                                                              \n",
       "2015-12-31 19:01:00   430.38   430.40   430.38    $430.4    0.947800   \n",
       "2015-12-31 19:02:00   430.40   430.40   430.40    $430.4    1.633400   \n",
       "2015-12-31 19:03:00   430.39   430.39   430.36   $430.36   12.566300   \n",
       "2015-12-31 19:04:00   430.39   430.39   430.39   $430.39    1.953000   \n",
       "2015-12-31 19:05:00   430.40   430.96   430.40   $430.96   12.114161   \n",
       "...                      ...      ...      ...       ...         ...   \n",
       "2019-01-07 17:02:00  4006.01  4006.57  4006.00  $4006.01    3.382954   \n",
       "2019-01-07 17:03:00  4006.01  4006.57  4006.00  $4006.01    0.902164   \n",
       "2019-01-07 17:04:00  4006.01  4006.01  4006.00  $4006.01    1.192123   \n",
       "2019-01-07 17:05:00  4006.01  4006.01  4005.50   $4005.5    2.699700   \n",
       "2019-01-07 17:06:00  4005.51  4006.01  4005.51  $4005.99    1.752778   \n",
       "\n",
       "                       USD Volume  Weighted Price  \n",
       "Timestamp                                          \n",
       "2015-12-31 19:01:00    407.924370      430.390768  \n",
       "2015-12-31 19:02:00    703.015360      430.400000  \n",
       "2015-12-31 19:03:00   5408.313368      430.382322  \n",
       "2015-12-31 19:04:00    840.551670      430.390000  \n",
       "2015-12-31 19:05:00   5216.297064      430.595001  \n",
       "...                           ...             ...  \n",
       "2019-01-07 17:02:00  13553.433078     4006.390309  \n",
       "2019-01-07 17:03:00   3614.083169     4006.017233  \n",
       "2019-01-07 17:04:00   4775.647308     4006.003635  \n",
       "2019-01-07 17:05:00  10814.241898     4005.719991  \n",
       "2019-01-07 17:06:00   7021.183546     4005.745614  \n",
       "\n",
       "[1550147 rows x 7 columns]"
      ]
     },
     "execution_count": 175,
     "metadata": {},
     "output_type": "execute_result"
    }
   ],
   "source": [
    "# Repeat Steps 1–4 for the coinbase DataFrame\n",
    "# YOUR CODE HERE\n",
    "coinbase.dropna()"
   ]
  },
  {
   "cell_type": "code",
   "execution_count": 176,
   "metadata": {},
   "outputs": [],
   "source": [
    "coinbase[\"Close\"] = coinbase[\"Close\"].str.replace(\"$\", \"\")"
   ]
  },
  {
   "cell_type": "code",
   "execution_count": 177,
   "metadata": {},
   "outputs": [],
   "source": [
    "coinbase[\"Close\"]  = coinbase[\"Close\"].astype(\"float\")"
   ]
  },
  {
   "cell_type": "code",
   "execution_count": 178,
   "metadata": {},
   "outputs": [
    {
     "data": {
      "text/plain": [
       "38682"
      ]
     },
     "execution_count": 178,
     "metadata": {},
     "output_type": "execute_result"
    }
   ],
   "source": [
    "coinbase.duplicated().sum()"
   ]
  },
  {
   "cell_type": "code",
   "execution_count": 179,
   "metadata": {},
   "outputs": [
    {
     "data": {
      "text/html": [
       "<div>\n",
       "<style scoped>\n",
       "    .dataframe tbody tr th:only-of-type {\n",
       "        vertical-align: middle;\n",
       "    }\n",
       "\n",
       "    .dataframe tbody tr th {\n",
       "        vertical-align: top;\n",
       "    }\n",
       "\n",
       "    .dataframe thead th {\n",
       "        text-align: right;\n",
       "    }\n",
       "</style>\n",
       "<table border=\"1\" class=\"dataframe\">\n",
       "  <thead>\n",
       "    <tr style=\"text-align: right;\">\n",
       "      <th></th>\n",
       "      <th>Open</th>\n",
       "      <th>High</th>\n",
       "      <th>Low</th>\n",
       "      <th>Close</th>\n",
       "      <th>BTC Volume</th>\n",
       "      <th>USD Volume</th>\n",
       "      <th>Weighted Price</th>\n",
       "    </tr>\n",
       "    <tr>\n",
       "      <th>Timestamp</th>\n",
       "      <th></th>\n",
       "      <th></th>\n",
       "      <th></th>\n",
       "      <th></th>\n",
       "      <th></th>\n",
       "      <th></th>\n",
       "      <th></th>\n",
       "    </tr>\n",
       "  </thead>\n",
       "  <tbody>\n",
       "    <tr>\n",
       "      <th>2015-12-31 19:01:00</th>\n",
       "      <td>430.38</td>\n",
       "      <td>430.40</td>\n",
       "      <td>430.38</td>\n",
       "      <td>430.40</td>\n",
       "      <td>0.947800</td>\n",
       "      <td>407.924370</td>\n",
       "      <td>430.390768</td>\n",
       "    </tr>\n",
       "    <tr>\n",
       "      <th>2015-12-31 19:02:00</th>\n",
       "      <td>430.40</td>\n",
       "      <td>430.40</td>\n",
       "      <td>430.40</td>\n",
       "      <td>430.40</td>\n",
       "      <td>1.633400</td>\n",
       "      <td>703.015360</td>\n",
       "      <td>430.400000</td>\n",
       "    </tr>\n",
       "    <tr>\n",
       "      <th>2015-12-31 19:03:00</th>\n",
       "      <td>430.39</td>\n",
       "      <td>430.39</td>\n",
       "      <td>430.36</td>\n",
       "      <td>430.36</td>\n",
       "      <td>12.566300</td>\n",
       "      <td>5408.313368</td>\n",
       "      <td>430.382322</td>\n",
       "    </tr>\n",
       "    <tr>\n",
       "      <th>2015-12-31 19:04:00</th>\n",
       "      <td>430.39</td>\n",
       "      <td>430.39</td>\n",
       "      <td>430.39</td>\n",
       "      <td>430.39</td>\n",
       "      <td>1.953000</td>\n",
       "      <td>840.551670</td>\n",
       "      <td>430.390000</td>\n",
       "    </tr>\n",
       "    <tr>\n",
       "      <th>2015-12-31 19:05:00</th>\n",
       "      <td>430.40</td>\n",
       "      <td>430.96</td>\n",
       "      <td>430.40</td>\n",
       "      <td>430.96</td>\n",
       "      <td>12.114161</td>\n",
       "      <td>5216.297064</td>\n",
       "      <td>430.595001</td>\n",
       "    </tr>\n",
       "  </tbody>\n",
       "</table>\n",
       "</div>"
      ],
      "text/plain": [
       "                       Open    High     Low   Close  BTC Volume   USD Volume  \\\n",
       "Timestamp                                                                      \n",
       "2015-12-31 19:01:00  430.38  430.40  430.38  430.40    0.947800   407.924370   \n",
       "2015-12-31 19:02:00  430.40  430.40  430.40  430.40    1.633400   703.015360   \n",
       "2015-12-31 19:03:00  430.39  430.39  430.36  430.36   12.566300  5408.313368   \n",
       "2015-12-31 19:04:00  430.39  430.39  430.39  430.39    1.953000   840.551670   \n",
       "2015-12-31 19:05:00  430.40  430.96  430.40  430.96   12.114161  5216.297064   \n",
       "\n",
       "                     Weighted Price  \n",
       "Timestamp                            \n",
       "2015-12-31 19:01:00      430.390768  \n",
       "2015-12-31 19:02:00      430.400000  \n",
       "2015-12-31 19:03:00      430.382322  \n",
       "2015-12-31 19:04:00      430.390000  \n",
       "2015-12-31 19:05:00      430.595001  "
      ]
     },
     "execution_count": 179,
     "metadata": {},
     "output_type": "execute_result"
    }
   ],
   "source": [
    "coinbase = coinbase.drop_duplicates().copy()\n",
    "coinbase.head()"
   ]
  },
  {
   "cell_type": "markdown",
   "metadata": {},
   "source": [
    "## Analyze the Data\n",
    "\n",
    "Your analysis consists of the following steps:\n",
    "\n",
    "Your analysis consists of the following tasks: \n",
    "\n",
    "1. Choose the columns of data on which to focus your analysis.\n",
    "\n",
    "2. Get the summary statistics and plot the data.\n",
    "\n",
    "3. Focus your analysis on specific dates.\n",
    "\n",
    "4. Calculate the arbitrage profits."
   ]
  },
  {
   "cell_type": "markdown",
   "metadata": {},
   "source": [
    "### Step 1: Choose columns of data on which to focus your analysis.\n",
    "\n",
    "Select the data you want to analyze. Use `loc` or `iloc` to select the following columns of data for both the bitstamp and coinbase DataFrames:\n",
    "\n",
    "* Timestamp (index)\n",
    "\n",
    "* Close\n"
   ]
  },
  {
   "cell_type": "code",
   "execution_count": 180,
   "metadata": {},
   "outputs": [
    {
     "data": {
      "text/html": [
       "<div>\n",
       "<style scoped>\n",
       "    .dataframe tbody tr th:only-of-type {\n",
       "        vertical-align: middle;\n",
       "    }\n",
       "\n",
       "    .dataframe tbody tr th {\n",
       "        vertical-align: top;\n",
       "    }\n",
       "\n",
       "    .dataframe thead th {\n",
       "        text-align: right;\n",
       "    }\n",
       "</style>\n",
       "<table border=\"1\" class=\"dataframe\">\n",
       "  <thead>\n",
       "    <tr style=\"text-align: right;\">\n",
       "      <th></th>\n",
       "      <th>Close</th>\n",
       "    </tr>\n",
       "    <tr>\n",
       "      <th>Timestamp</th>\n",
       "      <th></th>\n",
       "    </tr>\n",
       "  </thead>\n",
       "  <tbody>\n",
       "    <tr>\n",
       "      <th>2015-12-31 19:01:00</th>\n",
       "      <td>430.89</td>\n",
       "    </tr>\n",
       "    <tr>\n",
       "      <th>2015-12-31 19:02:00</th>\n",
       "      <td>430.89</td>\n",
       "    </tr>\n",
       "    <tr>\n",
       "      <th>2015-12-31 19:04:00</th>\n",
       "      <td>431.06</td>\n",
       "    </tr>\n",
       "    <tr>\n",
       "      <th>2015-12-31 19:05:00</th>\n",
       "      <td>430.54</td>\n",
       "    </tr>\n",
       "    <tr>\n",
       "      <th>2015-12-31 19:06:00</th>\n",
       "      <td>432.52</td>\n",
       "    </tr>\n",
       "  </tbody>\n",
       "</table>\n",
       "</div>"
      ],
      "text/plain": [
       "                      Close\n",
       "Timestamp                  \n",
       "2015-12-31 19:01:00  430.89\n",
       "2015-12-31 19:02:00  430.89\n",
       "2015-12-31 19:04:00  431.06\n",
       "2015-12-31 19:05:00  430.54\n",
       "2015-12-31 19:06:00  432.52"
      ]
     },
     "execution_count": 180,
     "metadata": {},
     "output_type": "execute_result"
    }
   ],
   "source": [
    "# Use loc or iloc to select `Timestamp (the index)` and `Close` from bitstamp DataFrame\n",
    "bitstamp_sliced = bitstamp.loc[:,[\"Close\"]].copy()\n",
    "\n",
    "# Review the first five rows of the DataFrame\n",
    "# YOUR CODE HERE\n",
    "bitstamp_sliced.head()"
   ]
  },
  {
   "cell_type": "code",
   "execution_count": 181,
   "metadata": {},
   "outputs": [
    {
     "data": {
      "text/html": [
       "<div>\n",
       "<style scoped>\n",
       "    .dataframe tbody tr th:only-of-type {\n",
       "        vertical-align: middle;\n",
       "    }\n",
       "\n",
       "    .dataframe tbody tr th {\n",
       "        vertical-align: top;\n",
       "    }\n",
       "\n",
       "    .dataframe thead th {\n",
       "        text-align: right;\n",
       "    }\n",
       "</style>\n",
       "<table border=\"1\" class=\"dataframe\">\n",
       "  <thead>\n",
       "    <tr style=\"text-align: right;\">\n",
       "      <th></th>\n",
       "      <th>Close</th>\n",
       "    </tr>\n",
       "    <tr>\n",
       "      <th>Timestamp</th>\n",
       "      <th></th>\n",
       "    </tr>\n",
       "  </thead>\n",
       "  <tbody>\n",
       "    <tr>\n",
       "      <th>2015-12-31 19:01:00</th>\n",
       "      <td>430.40</td>\n",
       "    </tr>\n",
       "    <tr>\n",
       "      <th>2015-12-31 19:02:00</th>\n",
       "      <td>430.40</td>\n",
       "    </tr>\n",
       "    <tr>\n",
       "      <th>2015-12-31 19:03:00</th>\n",
       "      <td>430.36</td>\n",
       "    </tr>\n",
       "    <tr>\n",
       "      <th>2015-12-31 19:04:00</th>\n",
       "      <td>430.39</td>\n",
       "    </tr>\n",
       "    <tr>\n",
       "      <th>2015-12-31 19:05:00</th>\n",
       "      <td>430.96</td>\n",
       "    </tr>\n",
       "  </tbody>\n",
       "</table>\n",
       "</div>"
      ],
      "text/plain": [
       "                      Close\n",
       "Timestamp                  \n",
       "2015-12-31 19:01:00  430.40\n",
       "2015-12-31 19:02:00  430.40\n",
       "2015-12-31 19:03:00  430.36\n",
       "2015-12-31 19:04:00  430.39\n",
       "2015-12-31 19:05:00  430.96"
      ]
     },
     "execution_count": 181,
     "metadata": {},
     "output_type": "execute_result"
    }
   ],
   "source": [
    "# Use loc or iloc to select `Timestamp (the index)` and `Close` from coinbase DataFrame\n",
    "coinbase_sliced = coinbase.loc[: , [\"Close\"]].copy()\n",
    "\n",
    "# Review the first five rows of the DataFrame\n",
    "# YOUR CODE HERE\n",
    "coinbase_sliced.head()"
   ]
  },
  {
   "cell_type": "markdown",
   "metadata": {},
   "source": [
    "### Step 2: Get summary statistics and plot the data.\n",
    "\n",
    "Sort through the time series data associated with the bitstamp and coinbase DataFrames to identify potential arbitrage opportunities. To do so, complete the following steps:\n",
    "\n",
    "1. Generate the summary statistics for each DataFrame by using the `describe` function.\n",
    "\n",
    "2. For each DataFrame, create a line plot for the full period of time in the dataset. Be sure to tailor the figure size, title, and color to each visualization.\n",
    "\n",
    "3. In one plot, overlay the visualizations that you created in Step 2 for bitstamp and coinbase. Be sure to adjust the legend and title for this new visualization.\n",
    "\n",
    "4. Using the `loc` and `plot` functions, plot the price action of the assets on each exchange for different dates and times. Your goal is to evaluate how the spread between the two exchanges changed across the time period that the datasets define. Did the degree of spread change as time progressed?"
   ]
  },
  {
   "cell_type": "code",
   "execution_count": 182,
   "metadata": {},
   "outputs": [
    {
     "data": {
      "text/html": [
       "<div>\n",
       "<style scoped>\n",
       "    .dataframe tbody tr th:only-of-type {\n",
       "        vertical-align: middle;\n",
       "    }\n",
       "\n",
       "    .dataframe tbody tr th {\n",
       "        vertical-align: top;\n",
       "    }\n",
       "\n",
       "    .dataframe thead th {\n",
       "        text-align: right;\n",
       "    }\n",
       "</style>\n",
       "<table border=\"1\" class=\"dataframe\">\n",
       "  <thead>\n",
       "    <tr style=\"text-align: right;\">\n",
       "      <th></th>\n",
       "      <th>Close</th>\n",
       "    </tr>\n",
       "  </thead>\n",
       "  <tbody>\n",
       "    <tr>\n",
       "      <th>count</th>\n",
       "      <td>1.347772e+06</td>\n",
       "    </tr>\n",
       "    <tr>\n",
       "      <th>mean</th>\n",
       "      <td>4.503924e+03</td>\n",
       "    </tr>\n",
       "    <tr>\n",
       "      <th>std</th>\n",
       "      <td>3.956149e+03</td>\n",
       "    </tr>\n",
       "    <tr>\n",
       "      <th>min</th>\n",
       "      <td>1.500000e+00</td>\n",
       "    </tr>\n",
       "    <tr>\n",
       "      <th>25%</th>\n",
       "      <td>7.888900e+02</td>\n",
       "    </tr>\n",
       "    <tr>\n",
       "      <th>50%</th>\n",
       "      <td>3.788990e+03</td>\n",
       "    </tr>\n",
       "    <tr>\n",
       "      <th>75%</th>\n",
       "      <td>6.929443e+03</td>\n",
       "    </tr>\n",
       "    <tr>\n",
       "      <th>max</th>\n",
       "      <td>1.966575e+04</td>\n",
       "    </tr>\n",
       "  </tbody>\n",
       "</table>\n",
       "</div>"
      ],
      "text/plain": [
       "              Close\n",
       "count  1.347772e+06\n",
       "mean   4.503924e+03\n",
       "std    3.956149e+03\n",
       "min    1.500000e+00\n",
       "25%    7.888900e+02\n",
       "50%    3.788990e+03\n",
       "75%    6.929443e+03\n",
       "max    1.966575e+04"
      ]
     },
     "execution_count": 182,
     "metadata": {},
     "output_type": "execute_result"
    }
   ],
   "source": [
    "# Generate the summary statistics for the bitstamp DataFrame\n",
    "# YOUR CODE HERE\n",
    "bitstamp_sliced.describe()"
   ]
  },
  {
   "cell_type": "code",
   "execution_count": 183,
   "metadata": {},
   "outputs": [
    {
     "data": {
      "text/html": [
       "<div>\n",
       "<style scoped>\n",
       "    .dataframe tbody tr th:only-of-type {\n",
       "        vertical-align: middle;\n",
       "    }\n",
       "\n",
       "    .dataframe tbody tr th {\n",
       "        vertical-align: top;\n",
       "    }\n",
       "\n",
       "    .dataframe thead th {\n",
       "        text-align: right;\n",
       "    }\n",
       "</style>\n",
       "<table border=\"1\" class=\"dataframe\">\n",
       "  <thead>\n",
       "    <tr style=\"text-align: right;\">\n",
       "      <th></th>\n",
       "      <th>Close</th>\n",
       "    </tr>\n",
       "  </thead>\n",
       "  <tbody>\n",
       "    <tr>\n",
       "      <th>count</th>\n",
       "      <td>1.549523e+06</td>\n",
       "    </tr>\n",
       "    <tr>\n",
       "      <th>mean</th>\n",
       "      <td>4.091926e+03</td>\n",
       "    </tr>\n",
       "    <tr>\n",
       "      <th>std</th>\n",
       "      <td>3.913501e+03</td>\n",
       "    </tr>\n",
       "    <tr>\n",
       "      <th>min</th>\n",
       "      <td>6.000000e-02</td>\n",
       "    </tr>\n",
       "    <tr>\n",
       "      <th>25%</th>\n",
       "      <td>6.754000e+02</td>\n",
       "    </tr>\n",
       "    <tr>\n",
       "      <th>50%</th>\n",
       "      <td>2.710730e+03</td>\n",
       "    </tr>\n",
       "    <tr>\n",
       "      <th>75%</th>\n",
       "      <td>6.593500e+03</td>\n",
       "    </tr>\n",
       "    <tr>\n",
       "      <th>max</th>\n",
       "      <td>1.989199e+04</td>\n",
       "    </tr>\n",
       "  </tbody>\n",
       "</table>\n",
       "</div>"
      ],
      "text/plain": [
       "              Close\n",
       "count  1.549523e+06\n",
       "mean   4.091926e+03\n",
       "std    3.913501e+03\n",
       "min    6.000000e-02\n",
       "25%    6.754000e+02\n",
       "50%    2.710730e+03\n",
       "75%    6.593500e+03\n",
       "max    1.989199e+04"
      ]
     },
     "execution_count": 183,
     "metadata": {},
     "output_type": "execute_result"
    }
   ],
   "source": [
    "# Generate the summary statistics for the coinbase DataFrame\n",
    "# YOUR CODE HERE\n",
    "coinbase_sliced.describe()"
   ]
  },
  {
   "cell_type": "code",
   "execution_count": 184,
   "metadata": {},
   "outputs": [
    {
     "data": {
      "text/plain": [
       "<AxesSubplot:title={'center':'Coinbase Price'}, xlabel='Timestamp'>"
      ]
     },
     "execution_count": 184,
     "metadata": {},
     "output_type": "execute_result"
    },
    {
     "data": {
      "image/png": "[encoded data removed]",
      "text/plain": [
       "<Figure size 720x504 with 1 Axes>"
      ]
     },
     "metadata": {
      "needs_background": "light"
     },
     "output_type": "display_data"
    }
   ],
   "source": [
    "# Create a line plot for the bitstamp DataFrame for the full length of time in the dataset \n",
    "# Be sure that the figure size, title, and color are tailored to each visualization\n",
    "# YOUR CODE HERE\n",
    "coinbase_sliced.plot(figsize = (10, 7), title = \"Coinbase Price\", color = \"orange\")"
   ]
  },
  {
   "cell_type": "code",
   "execution_count": 185,
   "metadata": {},
   "outputs": [
    {
     "data": {
      "text/plain": [
       "<AxesSubplot:title={'center':'Bitstamp Price'}, xlabel='Timestamp'>"
      ]
     },
     "execution_count": 185,
     "metadata": {},
     "output_type": "execute_result"
    },
    {
     "data": {
      "image/png": "[encoded data removed]",
      "text/plain": [
       "<Figure size 720x504 with 1 Axes>"
      ]
     },
     "metadata": {
      "needs_background": "light"
     },
     "output_type": "display_data"
    }
   ],
   "source": [
    "# Create a line plot for the coinbase DataFrame for the full length of time in the dataset \n",
    "# Be sure that the figure size, title, and color are tailored to each visualization\n",
    "# YOUR CODE HERE\n",
    "bitstamp_sliced.plot(figsize = (10, 7), title = \"Bitstamp Price\", color = \"green\")"
   ]
  },
  {
   "cell_type": "code",
   "execution_count": 186,
   "metadata": {},
   "outputs": [
    {
     "data": {
      "text/plain": [
       "<AxesSubplot:title={'center':'Coinbase and Bitstamp Price'}, xlabel='Timestamp'>"
      ]
     },
     "execution_count": 186,
     "metadata": {},
     "output_type": "execute_result"
    },
    {
     "data": {
      "image/png": "[encoded data removed]",
      "text/plain": [
       "<Figure size 720x504 with 1 Axes>"
      ]
     },
     "metadata": {
      "needs_background": "light"
     },
     "output_type": "display_data"
    }
   ],
   "source": [
    "# Overlay the visualizations for the bitstamp and coinbase DataFrames in one plot\n",
    "# The plot should visualize the prices over the full lenth of the dataset\n",
    "# Be sure to include the parameters: legend, figure size, title, and color and label\n",
    "# YOUR CODE HERE\n",
    "coinbase_sliced[\"Close\"].plot(legend = True, figsize = (10, 7), title = \"Coinbase and Bitstamp Price\", color = \"orange\", label = \"Coinbase\")\n",
    "bitstamp_sliced[\"Close\"].plot(legend = True,figsize = (10, 7), color = \"green\", label = \"Bitstamp\")\n",
    "\n"
   ]
  },
  {
   "cell_type": "code",
   "execution_count": 187,
   "metadata": {},
   "outputs": [
    {
     "data": {
      "text/plain": [
       "<AxesSubplot:title={'center':'Exchange Comparison: Coinbase and Bitstamp Price'}, xlabel='Timestamp'>"
      ]
     },
     "execution_count": 187,
     "metadata": {},
     "output_type": "execute_result"
    },
    {
     "data": {
      "image/png": "[encoded data removed]",
      "text/plain": [
       "<Figure size 720x504 with 1 Axes>"
      ]
     },
     "metadata": {
      "needs_background": "light"
     },
     "output_type": "display_data"
    }
   ],
   "source": [
    "# Using the loc and plot functions, create an overlay plot that visualizes \n",
    "# the price action of both DataFrames for a one month period early in the dataset\n",
    "# Be sure to include the parameters: legend, figure size, title, and color and label\n",
    "# YOUR CODE HERE\n",
    "coinbase_sliced.loc[\"2016-07-01\":\"2017-07-31\", \"Close\"].plot(legend = True, figsize = (10, 7), title = \"Exchange Comparison: Coinbase and Bitstamp Price\", color = \"orange\", label = \"Coinbase\")\n",
    "bitstamp_sliced.loc[\"2016-07-01\":\"2017-07-31\", \"Close\"].plot(legend = True,figsize = (10, 7), color = \"green\", label = \"Bitstamp\")"
   ]
  },
  {
   "cell_type": "code",
   "execution_count": 188,
   "metadata": {},
   "outputs": [
    {
     "data": {
      "text/plain": [
       "<AxesSubplot:title={'center':'Exchange Comparison: Coinbase and Bitstamp Price'}, xlabel='Timestamp'>"
      ]
     },
     "execution_count": 188,
     "metadata": {},
     "output_type": "execute_result"
    },
    {
     "data": {
      "image/png": "[encoded data removed]",
      "text/plain": [
       "<Figure size 720x504 with 1 Axes>"
      ]
     },
     "metadata": {
      "needs_background": "light"
     },
     "output_type": "display_data"
    }
   ],
   "source": [
    "# Using the loc and plot functions, create an overlay plot that visualizes \n",
    "# the price action of both DataFrames for a one month period later in the dataset\n",
    "# Be sure to include the parameters: legend, figure size, title, and color and label \n",
    "# YOUR CODE HERE\n",
    "coinbase_sliced.loc[\"2017-08-01\":\"2017-08-31\", \"Close\"].plot(legend = True, figsize = (10, 7), title = \"Exchange Comparison: Coinbase and Bitstamp Price\", color = \"orange\", label = \"Coinbase\")\n",
    "bitstamp_sliced.loc[\"2017-08-01\":\"2017-08-31\", \"Close\"].plot(legend = True,figsize = (10, 7), color = \"green\", label = \"Bitstamp\")"
   ]
  },
  {
   "cell_type": "markdown",
   "metadata": {},
   "source": [
    "**Question** Based on the visualizations of the different time periods, has the degree of spread change as time progressed?\n",
    "\n",
    "**Answer** #In the first period we had a incrise of the price in the end of the period, but with a lot of variation, in the second period the price incresed a lot without the down variation"
   ]
  },
  {
   "cell_type": "markdown",
   "metadata": {},
   "source": [
    "### Step 3: Focus Your Analysis on Specific Dates\n",
    "\n",
    "Focus your analysis on specific dates by completing the following steps:\n",
    "\n",
    "1. Select three dates to evaluate for arbitrage profitability. Choose one date that’s early in the dataset, one from the middle of the dataset, and one from the last year of the time period.\n",
    "\n",
    "2. For each of the three dates, generate the summary statistics and then create a box plot. This big-picture view is meant to help you gain a better understanding of the data before you perform your arbitrage calculations. As you compare the data, what conclusions can you draw?"
   ]
  },
  {
   "cell_type": "code",
   "execution_count": 189,
   "metadata": {},
   "outputs": [
    {
     "data": {
      "text/plain": [
       "<AxesSubplot:title={'center':'Exchange Comparison: Coinbase and Bitstamp Price 10/10/2016'}, xlabel='Timestamp'>"
      ]
     },
     "execution_count": 189,
     "metadata": {},
     "output_type": "execute_result"
    },
    {
     "data": {
      "image/png": "[encoded data removed]",
      "text/plain": [
       "<Figure size 720x504 with 1 Axes>"
      ]
     },
     "metadata": {
      "needs_background": "light"
     },
     "output_type": "display_data"
    }
   ],
   "source": [
    "# Create an overlay plot that visualizes the two dataframes over a period of one day early in the dataset \n",
    "# Be sure that the plots include the parameters `legend`, `figsize`, `title`, `color` and `label` \n",
    "# YOUR CODE HERE\n",
    "coinbase_sliced[\"Close\"].loc[\"2016-10-10\"].plot(legend = True, figsize = (10, 7), title = \"Exchange Comparison: Coinbase and Bitstamp Price 10/10/2016\", color = \"orange\", label = \"Coinbase\")\n",
    "bitstamp_sliced[\"Close\"].loc[\"2016-10-10\"].plot(legend = True,figsize = (10, 7), color = \"green\", label = \"Bitstamp\")"
   ]
  },
  {
   "cell_type": "code",
   "execution_count": 190,
   "metadata": {
    "tags": []
   },
   "outputs": [
    {
     "data": {
      "text/plain": [
       "count    814.000000\n",
       "mean       2.644902\n",
       "std        1.233488\n",
       "min       -0.230000\n",
       "25%        1.560000\n",
       "50%        2.670000\n",
       "75%        3.595000\n",
       "max        5.670000\n",
       "Name: Close, dtype: float64"
      ]
     },
     "execution_count": 190,
     "metadata": {},
     "output_type": "execute_result"
    }
   ],
   "source": [
    "# Using the early date that you have selected, calculate the arbitrage spread \n",
    "# by subtracting the bitstamp lower closing prices from the coinbase higher closing prices\n",
    "arbitrage_spread_early = coinbase_sliced[\"Close\"].loc[\"2016-10-10\"] - bitstamp_sliced[\"Close\"].loc[\"2016-10-10\"]\n",
    "\n",
    "# Generate summary statistics for the early DataFrame\n",
    "# YOUR CODE HERE\n",
    "arbitrage_spread_early.describe()"
   ]
  },
  {
   "cell_type": "code",
   "execution_count": 191,
   "metadata": {},
   "outputs": [
    {
     "data": {
      "text/plain": [
       "<AxesSubplot:>"
      ]
     },
     "execution_count": 191,
     "metadata": {},
     "output_type": "execute_result"
    },
    {
     "data": {
      "image/png": "[encoded data removed]",
      "text/plain": [
       "<Figure size 432x288 with 1 Axes>"
      ]
     },
     "metadata": {
      "needs_background": "light"
     },
     "output_type": "display_data"
    }
   ],
   "source": [
    "# Visualize the arbitrage spread from early in the dataset in a box plot\n",
    "# Be sure to include at least a title with your plot\n",
    "# YOUR CODE HERE\n",
    "arbitrage_spread_early.plot(kind = \"box\")"
   ]
  },
  {
   "cell_type": "code",
   "execution_count": 192,
   "metadata": {},
   "outputs": [
    {
     "data": {
      "text/plain": [
       "<AxesSubplot:title={'center':'09/15/2017'}, xlabel='Timestamp'>"
      ]
     },
     "execution_count": 192,
     "metadata": {},
     "output_type": "execute_result"
    },
    {
     "data": {
      "image/png": "[encoded data removed]",
      "text/plain": [
       "<Figure size 720x504 with 1 Axes>"
      ]
     },
     "metadata": {
      "needs_background": "light"
     },
     "output_type": "display_data"
    }
   ],
   "source": [
    "# Create an overlay plot that visualizes the two dataframes over a period of one day from the middle of the dataset. \n",
    "# Be sure that the plots include the parameters `legend`, `figsize`, `title`, `color` and `label` \n",
    "# YOUR CODE HERE\n",
    "coinbase_sliced[\"Close\"].loc[\"2017-09-15\"].plot(legend = True, figsize = (10, 7), title = \"09/15/2017\", color = \"orange\", label = \"Coinbase\")\n",
    "bitstamp_sliced[\"Close\"].loc[\"2017-09-15\"].plot(legend = True,figsize = (10, 7), color = \"blue\", label = \"Bitstamp\")"
   ]
  },
  {
   "cell_type": "code",
   "execution_count": 193,
   "metadata": {},
   "outputs": [
    {
     "data": {
      "text/plain": [
       "count    1439.000000\n",
       "mean       21.959340\n",
       "std        31.105196\n",
       "min       -47.930000\n",
       "25%         3.215000\n",
       "50%        12.270000\n",
       "75%        29.835000\n",
       "max       198.160000\n",
       "Name: Close, dtype: float64"
      ]
     },
     "execution_count": 193,
     "metadata": {},
     "output_type": "execute_result"
    }
   ],
   "source": [
    "# Using the date form the middle that you have selected, calculate the arbitrage spread \n",
    "# by subtracting the bitstamp lower closing prices from the coinbase higher closing prices\n",
    "arbitrage_spread_middle = coinbase_sliced[\"Close\"].loc[\"2017-09-15\"] -bitstamp_sliced[\"Close\"].loc[\"2017-09-15\"]\n",
    "\n",
    "# Generate summary statistics for the middle DataFrame\n",
    "# YOUR CODE HERE\n",
    "arbitrage_spread_middle.describe()"
   ]
  },
  {
   "cell_type": "code",
   "execution_count": 194,
   "metadata": {},
   "outputs": [
    {
     "data": {
      "text/plain": [
       "<AxesSubplot:>"
      ]
     },
     "execution_count": 194,
     "metadata": {},
     "output_type": "execute_result"
    },
    {
     "data": {
      "image/png": "[encoded data removed]",
      "text/plain": [
       "<Figure size 432x288 with 1 Axes>"
      ]
     },
     "metadata": {
      "needs_background": "light"
     },
     "output_type": "display_data"
    }
   ],
   "source": [
    "# Visualize the arbitrage spread from the middle of the dataset in a box plot\n",
    "# Be sure to include at least a title with your plot\n",
    "# YOUR CODE HERE\n",
    "arbitrage_spread_middle.plot(kind = \"box\")"
   ]
  },
  {
   "cell_type": "code",
   "execution_count": 195,
   "metadata": {},
   "outputs": [
    {
     "data": {
      "text/plain": [
       "<AxesSubplot:title={'center':'Exchange Comparison: Coinbase and Bitstamp Price 10/10/2018'}, xlabel='Timestamp'>"
      ]
     },
     "execution_count": 195,
     "metadata": {},
     "output_type": "execute_result"
    },
    {
     "data": {
      "image/png": "[encoded data removed]",
      "text/plain": [
       "<Figure size 720x504 with 1 Axes>"
      ]
     },
     "metadata": {
      "needs_background": "light"
     },
     "output_type": "display_data"
    }
   ],
   "source": [
    "# Create an overlay plot that visualizes the two dataframes over a period of one day from late in the dataset\n",
    "# Be sure that the plots include the parameters `legend`, `figsize`, `title`, `color` and `label` \n",
    "# YOUR CODE HERE\n",
    "coinbase_sliced[\"Close\"].loc[\"2018-10-10\"].plot(legend = True, figsize = (10, 7), title = \"Exchange Comparison: Coinbase and Bitstamp Price 10/10/2018\", color = \"orange\", label = \"Coinbase\")\n",
    "bitstamp_sliced[\"Close\"].loc[\"2018-10-10\"].plot(legend = True,figsize = (10, 7), color = \"green\", label = \"Bitstamp\")"
   ]
  },
  {
   "cell_type": "code",
   "execution_count": 196,
   "metadata": {},
   "outputs": [
    {
     "data": {
      "text/plain": [
       "count    1346.000000\n",
       "mean        0.901322\n",
       "std         4.755874\n",
       "min       -27.300000\n",
       "25%        -1.405000\n",
       "50%         0.490000\n",
       "75%         3.120000\n",
       "max        69.230000\n",
       "Name: Close, dtype: float64"
      ]
     },
     "execution_count": 196,
     "metadata": {},
     "output_type": "execute_result"
    }
   ],
   "source": [
    "# Using th date from late in the dataset that you have selected, calculate the arbitrage spread \n",
    "# by subtracting the bitstamp lower closing prices from the coinbase higher closing prices\n",
    "arbitrage_spread_late = coinbase_sliced[\"Close\"].loc[\"2018-10-10\"] - bitstamp_sliced[\"Close\"].loc[\"2018-10-10\"]\n",
    "\n",
    "# Generate summary statistics for the late DataFrame\n",
    "# YOUR CODE HERE\n",
    "arbitrage_spread_late.describe()"
   ]
  },
  {
   "cell_type": "code",
   "execution_count": 197,
   "metadata": {},
   "outputs": [
    {
     "data": {
      "text/plain": [
       "<AxesSubplot:>"
      ]
     },
     "execution_count": 197,
     "metadata": {},
     "output_type": "execute_result"
    },
    {
     "data": {
      "image/png": "[encoded data removed]",
      "text/plain": [
       "<Figure size 432x288 with 1 Axes>"
      ]
     },
     "metadata": {
      "needs_background": "light"
     },
     "output_type": "display_data"
    }
   ],
   "source": [
    "# Visualize the arbitrage spread from late in the dataset in a box plot\n",
    "# Be sure to include at least a title with your plot\n",
    "# YOUR CODE HERE\n",
    "arbitrage_spread_late.plot(kind = \"box\")"
   ]
  },
  {
   "cell_type": "markdown",
   "metadata": {},
   "source": [
    "### Step 4: Calculate the Arbitrage Profits\n",
    "\n",
    "Calculate the potential profits for each date that you selected in the previous section. Your goal is to determine whether arbitrage opportunities still exist in the Bitcoin market. Complete the following steps:\n",
    "\n",
    "1. For each of the three dates, measure the arbitrage spread between the two exchanges by subtracting the lower-priced exchange from the higher-priced one. Then use a conditional statement to generate the summary statistics for each arbitrage_spread DataFrame, where the spread is greater than zero.\n",
    "\n",
    "2. For each of the three dates, calculate the spread returns. To do so, divide the instances that have a positive arbitrage spread (that is, a spread greater than zero) by the price of Bitcoin from the exchange you’re buying on (that is, the lower-priced exchange). Review the resulting DataFrame.\n",
    "\n",
    "3. For each of the three dates, narrow down your trading opportunities even further. To do so, determine the number of times your trades with positive returns exceed the 1% minimum threshold that you need to cover your costs.\n",
    "\n",
    "4. Generate the summary statistics of your spread returns that are greater than 1%. How do the average returns compare among the three dates?\n",
    "\n",
    "5. For each of the three dates, calculate the potential profit, in dollars, per trade. To do so, multiply the spread returns that were greater than 1% by the cost of what was purchased. Make sure to drop any missing values from the resulting DataFrame.\n",
    "\n",
    "6. Generate the summary statistics, and plot the results for each of the three DataFrames.\n",
    "\n",
    "7. Calculate the potential arbitrage profits that you can make on each day. To do so, sum the elements in the profit_per_trade DataFrame.\n",
    "\n",
    "8. Using the `cumsum` function, plot the cumulative sum of each of the three DataFrames. Can you identify any patterns or trends in the profits across the three time periods?\n",
    "\n",
    "(NOTE: The starter code displays only one date. You'll want to do this analysis for two additional dates)."
   ]
  },
  {
   "cell_type": "markdown",
   "metadata": {},
   "source": [
    "#### 1. For each of the three dates, measure the arbitrage spread between the two exchanges by subtracting the lower-priced exchange from the higher-priced one. Then use a conditional statement to generate the summary statistics for each arbitrage_spread DataFrame, where the spread is greater than zero."
   ]
  },
  {
   "cell_type": "code",
   "execution_count": 198,
   "metadata": {},
   "outputs": [
    {
     "data": {
      "text/plain": [
       "count    810.000000\n",
       "mean       2.658593\n",
       "std        1.220986\n",
       "min        0.080000\n",
       "25%        1.570000\n",
       "50%        2.680000\n",
       "75%        3.600000\n",
       "max        5.670000\n",
       "Name: Close, dtype: float64"
      ]
     },
     "execution_count": 198,
     "metadata": {},
     "output_type": "execute_result"
    }
   ],
   "source": [
    "# For the date early in the dataset, measure the arbitrage spread between the two exchanges\n",
    "# by subtracting the lower-priced exchange from the higher-priced one\n",
    "arbitrage_spread_early = coinbase_sliced[\"Close\"].loc[\"2016-10-10\"] - bitstamp_sliced[\"Close\"].loc[\"2016-10-10\"]\n",
    "\n",
    "# Use a conditional statement to generate the summary statistics for each arbitrage_spread DataFrame\n",
    "# YOUR CODE HERE\n",
    "spread_early = arbitrage_spread_early[arbitrage_spread_early > 0]\n",
    "spread_early.describe()"
   ]
  },
  {
   "cell_type": "code",
   "execution_count": 199,
   "metadata": {},
   "outputs": [
    {
     "data": {
      "text/plain": [
       "count    1188.000000\n",
       "mean       27.400758\n",
       "std        31.572487\n",
       "min         1.010000\n",
       "25%         7.987500\n",
       "50%        16.000000\n",
       "75%        34.952500\n",
       "max       198.160000\n",
       "Name: Close, dtype: float64"
      ]
     },
     "execution_count": 199,
     "metadata": {},
     "output_type": "execute_result"
    }
   ],
   "source": [
    "# For the from the middle of the dataset, measure the arbitrage spread between the two exchanges\n",
    "# by subtracting the lower-priced exchange from the higher-priced one\n",
    "arbitrage_spread_middle = coinbase_sliced[\"Close\"].loc[\"2017-09-15\"] - bitstamp_sliced[\"Close\"].loc[\"2017-09-15\"]\n",
    "\n",
    "# Use a conditional statement to generate the summary statistics for each arbitrage_spread DataFrame\n",
    "# YOUR CODE HERE\n",
    "spread_middle = arbitrage_spread_middle[arbitrage_spread_middle > 1]\n",
    "spread_middle.describe()"
   ]
  },
  {
   "cell_type": "code",
   "execution_count": 200,
   "metadata": {},
   "outputs": [
    {
     "data": {
      "text/plain": [
       "count    584.000000\n",
       "mean       4.536079\n",
       "std        4.198175\n",
       "min        1.010000\n",
       "25%        2.130000\n",
       "50%        3.500000\n",
       "75%        5.537500\n",
       "max       69.230000\n",
       "Name: Close, dtype: float64"
      ]
     },
     "execution_count": 200,
     "metadata": {},
     "output_type": "execute_result"
    }
   ],
   "source": [
    "# For the date late in the dataset, measure the arbitrage spread between the two exchanges\n",
    "# by subtracting the lower-priced exchange from the higher-priced one\n",
    "arbitrage_spread_late = coinbase_sliced[\"Close\"].loc[\"2018-10-10\"] - bitstamp_sliced[\"Close\"].loc[\"2018-10-10\"]\n",
    "\n",
    "# Use a conditional statement to generate the summary statistics for each arbitrage_spread DataFrame\n",
    "# YOUR CODE HERE\n",
    "spread_late = arbitrage_spread_late[arbitrage_spread_late> 1]\n",
    "spread_late.describe()"
   ]
  },
  {
   "cell_type": "markdown",
   "metadata": {},
   "source": [
    "#### 2. For each of the three dates, calculate the spread returns. To do so, divide the instances that have a positive arbitrage spread (that is, a spread greater than zero) by the price of Bitcoin from the exchange you’re buying on (that is, the lower-priced exchange). Review the resulting DataFrame."
   ]
  },
  {
   "cell_type": "code",
   "execution_count": 201,
   "metadata": {},
   "outputs": [
    {
     "data": {
      "text/plain": [
       "count    810.000000\n",
       "mean       0.004303\n",
       "std        0.001971\n",
       "min        0.000130\n",
       "25%        0.002549\n",
       "50%        0.004351\n",
       "75%        0.005830\n",
       "max        0.009158\n",
       "Name: Close, dtype: float64"
      ]
     },
     "execution_count": 201,
     "metadata": {},
     "output_type": "execute_result"
    }
   ],
   "source": [
    "# For the date early in the dataset, calculate the spread returns by dividing \n",
    "# the instances when the arbitrage spread is positive (> 0) by the price of Bitcoin \n",
    "# from the exchange you are buying on (the lower-priced exchange)\n",
    "spread_return_early = spread_early / coinbase_sliced[\"Close\"].loc[\"2016-10-10\"]\n",
    "\n",
    "# Review the spread return DataFrame\n",
    "# YOUR CODE HERE\n",
    "spread_return_early.describe()"
   ]
  },
  {
   "cell_type": "code",
   "execution_count": 202,
   "metadata": {},
   "outputs": [
    {
     "data": {
      "text/plain": [
       "count    1188.000000\n",
       "mean        0.007484\n",
       "std         0.008287\n",
       "min         0.000300\n",
       "25%         0.002348\n",
       "50%         0.004623\n",
       "75%         0.009480\n",
       "max         0.051345\n",
       "Name: Close, dtype: float64"
      ]
     },
     "execution_count": 202,
     "metadata": {},
     "output_type": "execute_result"
    }
   ],
   "source": [
    "# For the date in the middle of the dataset, calculate the spread returns by dividing \n",
    "# the instances when the arbitrage spread is positive (> 0)  by the price of Bitcoin \n",
    "# from the exchange you are buying on (the lower-priced exchange)\n",
    "spread_return_middle = spread_middle / coinbase_sliced[\"Close\"].loc[\"2017-09-15\"]\n",
    "\n",
    "# Review the spread return DataFrame\n",
    "# YOUR CODE HERE\n",
    "spread_return_middle.describe()"
   ]
  },
  {
   "cell_type": "code",
   "execution_count": 203,
   "metadata": {},
   "outputs": [
    {
     "data": {
      "text/plain": [
       "count    584.000000\n",
       "mean       0.000706\n",
       "std        0.000659\n",
       "min        0.000154\n",
       "25%        0.000330\n",
       "50%        0.000542\n",
       "75%        0.000858\n",
       "max        0.010701\n",
       "Name: Close, dtype: float64"
      ]
     },
     "execution_count": 203,
     "metadata": {},
     "output_type": "execute_result"
    }
   ],
   "source": [
    "# For the date late in the dataset, calculate the spread returns by dividing \n",
    "# the instances when the arbitrage spread is positive (> 0)  by the price of Bitcoin \n",
    "# from the exchange you are buying on (the lower-priced exchange)\n",
    "spread_return_late = spread_late / coinbase_sliced[\"Close\"].loc[\"2018-10-10\"]\n",
    "\n",
    "# Review the spread return DataFrame\n",
    "spread_return_late.describe()"
   ]
  },
  {
   "cell_type": "markdown",
   "metadata": {},
   "source": [
    "#### 3. For each of the three dates, narrow down your trading opportunities even further. To do so, determine the number of times your trades with positive returns exceed the 1% minimum threshold that you need to cover your costs."
   ]
  },
  {
   "cell_type": "code",
   "execution_count": 204,
   "metadata": {},
   "outputs": [
    {
     "data": {
      "text/plain": [
       "Series([], Name: Close, dtype: float64)"
      ]
     },
     "execution_count": 204,
     "metadata": {},
     "output_type": "execute_result"
    }
   ],
   "source": [
    "# For the date early in the dataset, determine the number of times your trades with positive returns \n",
    "# exceed the 1% minimum threshold (.01) that you need to cover your costs\n",
    "profitable_trades_early = spread_return_early[spread_return_early > .01]\n",
    "\n",
    "# Review the first five profitable trades\n",
    "# YOUR CODE HERE\n",
    "profitable_trades_early.head()"
   ]
  },
  {
   "cell_type": "code",
   "execution_count": 205,
   "metadata": {},
   "outputs": [
    {
     "data": {
      "text/plain": [
       "Timestamp\n",
       "2017-09-15 02:57:00    0.014617\n",
       "2017-09-15 07:40:00    0.014730\n",
       "2017-09-15 07:41:00    0.013093\n",
       "2017-09-15 07:42:00    0.015760\n",
       "2017-09-15 07:48:00    0.012341\n",
       "Name: Close, dtype: float64"
      ]
     },
     "execution_count": 205,
     "metadata": {},
     "output_type": "execute_result"
    }
   ],
   "source": [
    "# For the date in the middle of the dataset, determine the number of times your trades with positive returns \n",
    "# exceed the 1% minimum threshold (.01) that you need to cover your costs\n",
    "profitable_trades_middle = spread_return_middle[spread_return_middle > .01]\n",
    "\n",
    "# Review the first five profitable trades\n",
    "# YOUR CODE HERE\n",
    "profitable_trades_middle.head()"
   ]
  },
  {
   "cell_type": "code",
   "execution_count": 206,
   "metadata": {},
   "outputs": [
    {
     "data": {
      "text/plain": [
       "Timestamp\n",
       "2018-10-10 01:09:00    0.010701\n",
       "Name: Close, dtype: float64"
      ]
     },
     "execution_count": 206,
     "metadata": {},
     "output_type": "execute_result"
    }
   ],
   "source": [
    "# For the date late in the dataset, determine the number of times your trades with positive returns \n",
    "# exceed the 1% minimum threshold (.01) that you need to cover your costs\n",
    "profitable_trades_late = spread_return_late[spread_return_late > .01]\n",
    "\n",
    "# Review the first five profitable trades\n",
    "# YOUR CODE HERE\n",
    "profitable_trades_late.head()"
   ]
  },
  {
   "cell_type": "markdown",
   "metadata": {},
   "source": [
    "#### 4. Generate the summary statistics of your spread returns that are greater than 1%. How do the average returns compare among the three dates?"
   ]
  },
  {
   "cell_type": "code",
   "execution_count": 207,
   "metadata": {},
   "outputs": [
    {
     "data": {
      "text/plain": [
       "count    0.0\n",
       "mean     NaN\n",
       "std      NaN\n",
       "min      NaN\n",
       "25%      NaN\n",
       "50%      NaN\n",
       "75%      NaN\n",
       "max      NaN\n",
       "Name: Close, dtype: float64"
      ]
     },
     "execution_count": 207,
     "metadata": {},
     "output_type": "execute_result"
    }
   ],
   "source": [
    "# For the date early in the dataset, generate the summary statistics for the profitable trades\n",
    "# or you trades where the spread returns are are greater than 1%\n",
    "# YOUR CODE HERE\n",
    "profitable_trades_early.describe()"
   ]
  },
  {
   "cell_type": "code",
   "execution_count": 208,
   "metadata": {},
   "outputs": [
    {
     "data": {
      "text/plain": [
       "count    277.000000\n",
       "mean       0.019231\n",
       "std        0.009631\n",
       "min        0.010033\n",
       "25%        0.012273\n",
       "50%        0.014970\n",
       "75%        0.023875\n",
       "max        0.051345\n",
       "Name: Close, dtype: float64"
      ]
     },
     "execution_count": 208,
     "metadata": {},
     "output_type": "execute_result"
    }
   ],
   "source": [
    "# For the date in the middle of the dataset, generate the summary statistics for the profitable trades\n",
    "# or you trades where the spread returns are are greater than 1%\n",
    "# YOUR CODE HERE\n",
    "profitable_trades_middle.describe()"
   ]
  },
  {
   "cell_type": "code",
   "execution_count": 209,
   "metadata": {},
   "outputs": [
    {
     "data": {
      "text/plain": [
       "count    1.000000\n",
       "mean     0.010701\n",
       "std           NaN\n",
       "min      0.010701\n",
       "25%      0.010701\n",
       "50%      0.010701\n",
       "75%      0.010701\n",
       "max      0.010701\n",
       "Name: Close, dtype: float64"
      ]
     },
     "execution_count": 209,
     "metadata": {},
     "output_type": "execute_result"
    }
   ],
   "source": [
    "# For the date late in the dataset, generate the summary statistics for the profitable trades\n",
    "# or you trades where the spread returns are are greater than 1%\n",
    "# YOUR CODE HERE\n",
    "profitable_trades_late.describe()"
   ]
  },
  {
   "cell_type": "markdown",
   "metadata": {},
   "source": [
    "#### 5. For each of the three dates, calculate the potential profit, in dollars, per trade. To do so, multiply the spread returns that were greater than 1% by the cost of what was purchased. Make sure to drop any missing values from the resulting DataFrame."
   ]
  },
  {
   "cell_type": "code",
   "execution_count": 210,
   "metadata": {},
   "outputs": [
    {
     "data": {
      "text/plain": [
       "Series([], Name: Close, dtype: float64)"
      ]
     },
     "execution_count": 210,
     "metadata": {},
     "output_type": "execute_result"
    }
   ],
   "source": [
    "# For the date early in the dataset, calculate the potential profit per trade in dollars \n",
    "# Multiply the profitable trades by the cost of the Bitcoin that was purchased\n",
    "profit_early = profitable_trades_early * bitstamp_sliced['Close'].loc['2016-08-01']\n",
    "\n",
    "# Drop any missing values from the profit DataFrame\n",
    "profit_per_trade_early = profit_early.dropna()\n",
    "\n",
    "# View the early profit DataFrame\n",
    "# YOUR CODE HERE\n",
    "profit_per_trade_early"
   ]
  },
  {
   "cell_type": "code",
   "execution_count": 211,
   "metadata": {},
   "outputs": [
    {
     "data": {
      "text/plain": [
       "Timestamp\n",
       "2017-09-15 02:57:00    45.386727\n",
       "2017-09-15 07:40:00    44.337150\n",
       "2017-09-15 07:41:00    39.476268\n",
       "2017-09-15 07:42:00    47.391145\n",
       "2017-09-15 07:48:00    37.303879\n",
       "                         ...    \n",
       "2017-09-15 23:55:00    47.406607\n",
       "2017-09-15 23:56:00    46.899607\n",
       "2017-09-15 23:57:00    48.147563\n",
       "2017-09-15 23:58:00    50.757663\n",
       "2017-09-15 23:59:00    62.474271\n",
       "Name: Close, Length: 277, dtype: float64"
      ]
     },
     "execution_count": 211,
     "metadata": {},
     "output_type": "execute_result"
    }
   ],
   "source": [
    "# For the date in the middle of the dataset, calculate the potential profit per trade in dollars \n",
    "# Multiply the profitable trades by the cost of the Bitcoin that was purchased\n",
    "profit_middle = profitable_trades_middle * bitstamp_sliced['Close'].loc['2017-09-15']\n",
    "\n",
    "# Drop any missing values from the profit DataFrame\n",
    "profit_per_trade_middle = profit_middle.dropna()\n",
    "\n",
    "# View the early profit DataFrame\n",
    "# YOUR CODE HERE\n",
    "profit_per_trade_middle"
   ]
  },
  {
   "cell_type": "code",
   "execution_count": 223,
   "metadata": {},
   "outputs": [
    {
     "data": {
      "text/plain": [
       "Timestamp\n",
       "2018-10-10 01:09:00    0.010701\n",
       "Name: Close, dtype: float64"
      ]
     },
     "execution_count": 223,
     "metadata": {},
     "output_type": "execute_result"
    }
   ],
   "source": [
    "# For the date late in the dataset, calculate the potential profit per trade in dollars \n",
    "# Multiply the profitable trades by the cost of the Bitcoin that was purchased\n",
    "profit_late = profitable_trades_late * bitstamp_sliced['Close'].loc['2018-10-10']\n",
    "\n",
    "# Drop any missing values from the profit DataFrame\n",
    "profit_per_trade_late = profitable_trades_late.dropna()\n",
    "\n",
    "# View the early profit DataFrame\n",
    "# YOUR CODE HERE\n",
    "profit_per_trade_late"
   ]
  },
  {
   "cell_type": "markdown",
   "metadata": {},
   "source": [
    "#### 6. Generate the summary statistics, and plot the results for each of the three DataFrames."
   ]
  },
  {
   "cell_type": "code",
   "execution_count": 213,
   "metadata": {},
   "outputs": [
    {
     "data": {
      "text/plain": [
       "count    0.0\n",
       "mean     NaN\n",
       "std      NaN\n",
       "min      NaN\n",
       "25%      NaN\n",
       "50%      NaN\n",
       "75%      NaN\n",
       "max      NaN\n",
       "Name: Close, dtype: float64"
      ]
     },
     "execution_count": 213,
     "metadata": {},
     "output_type": "execute_result"
    }
   ],
   "source": [
    "# Generate the summary statistics for the early profit per trade DataFrame\n",
    "# YOUR CODE HERE\n",
    "\n",
    "profit_per_trade_early.describe()"
   ]
  },
  {
   "cell_type": "code",
   "execution_count": 214,
   "metadata": {},
   "outputs": [
    {
     "data": {
      "text/plain": [
       "<AxesSubplot:title={'center':'Profit Per Trade 10/10/2016'}, xlabel='Timestamp'>"
      ]
     },
     "execution_count": 214,
     "metadata": {},
     "output_type": "execute_result"
    },
    {
     "data": {
      "image/png": "[encoded data removed]",
      "text/plain": [
       "<Figure size 720x504 with 1 Axes>"
      ]
     },
     "metadata": {
      "needs_background": "light"
     },
     "output_type": "display_data"
    }
   ],
   "source": [
    "# Plot the results for the early profit per trade DataFrame\n",
    "# Be sure to include at least a title with your plot\n",
    "# YOUR CODE HERE\n",
    "profit_per_trade_early.plot(figsize = (10,7), title = \"Profit Per Trade 10/10/2016\")"
   ]
  },
  {
   "cell_type": "code",
   "execution_count": 220,
   "metadata": {},
   "outputs": [
    {
     "data": {
      "text/plain": [
       "count    277.000000\n",
       "mean      70.262244\n",
       "std       35.345446\n",
       "min       33.933284\n",
       "25%       44.586896\n",
       "50%       55.270934\n",
       "75%       88.653587\n",
       "max      187.985389\n",
       "Name: Close, dtype: float64"
      ]
     },
     "execution_count": 220,
     "metadata": {},
     "output_type": "execute_result"
    }
   ],
   "source": [
    "# Generate the summary statistics for the middle profit per trade DataFrame\n",
    "# YOUR CODE HERE\n",
    "profit_per_trade_middle.describe()"
   ]
  },
  {
   "cell_type": "code",
   "execution_count": 221,
   "metadata": {},
   "outputs": [
    {
     "data": {
      "text/plain": [
       "<AxesSubplot:title={'center':'Profit Per Trade 09/15/2017'}, xlabel='Timestamp'>"
      ]
     },
     "execution_count": 221,
     "metadata": {},
     "output_type": "execute_result"
    },
    {
     "data": {
      "image/png": "[encoded data removed]",
      "text/plain": [
       "<Figure size 720x504 with 1 Axes>"
      ]
     },
     "metadata": {
      "needs_background": "light"
     },
     "output_type": "display_data"
    }
   ],
   "source": [
    "# Plot the results for the middle profit per trade DataFrame\n",
    "# Be sure to include at least a title with your plot\n",
    "# YOUR CODE HERE\n",
    "profit_per_trade_middle.plot(figsize = (10,7), title = \"Profit Per Trade 09/15/2017\")"
   ]
  },
  {
   "cell_type": "code",
   "execution_count": 222,
   "metadata": {},
   "outputs": [
    {
     "data": {
      "text/plain": [
       "count    1.000000\n",
       "mean     0.010701\n",
       "std           NaN\n",
       "min      0.010701\n",
       "25%      0.010701\n",
       "50%      0.010701\n",
       "75%      0.010701\n",
       "max      0.010701\n",
       "Name: Close, dtype: float64"
      ]
     },
     "execution_count": 222,
     "metadata": {},
     "output_type": "execute_result"
    }
   ],
   "source": [
    "# Generate the summary statistics for the late profit per trade DataFrame\n",
    "# YOUR CODE HERE\n",
    "profit_per_trade_late.describe()"
   ]
  },
  {
   "cell_type": "code",
   "execution_count": 224,
   "metadata": {},
   "outputs": [
    {
     "data": {
      "text/plain": [
       "<AxesSubplot:title={'center':'Profit Per Trade 10/10/2018'}, xlabel='Timestamp'>"
      ]
     },
     "execution_count": 224,
     "metadata": {},
     "output_type": "execute_result"
    },
    {
     "data": {
      "image/png": "[encoded data removed]",
      "text/plain": [
       "<Figure size 720x504 with 1 Axes>"
      ]
     },
     "metadata": {
      "needs_background": "light"
     },
     "output_type": "display_data"
    }
   ],
   "source": [
    "# Plot the results for the late profit per trade DataFrame\n",
    "# Be sure to include at least a title with your plot\n",
    "# YOUR CODE HERE\n",
    "profit_per_trade_late.plot(figsize = (10,7), title = \"Profit Per Trade 10/10/2018\")"
   ]
  },
  {
   "cell_type": "markdown",
   "metadata": {},
   "source": [
    "#### 7. Calculate the potential arbitrage profits that you can make on each day. To do so, sum the elements in the profit_per_trade DataFrame."
   ]
  },
  {
   "cell_type": "code",
   "execution_count": 225,
   "metadata": {},
   "outputs": [
    {
     "data": {
      "text/plain": [
       "0.0"
      ]
     },
     "execution_count": 225,
     "metadata": {},
     "output_type": "execute_result"
    }
   ],
   "source": [
    "# Calculate the sum of the potential profits for the early profit per trade DataFrame\n",
    "# YOUR CODE HERE\n",
    "profit_sum_early = profit_per_trade_early.sum()\n",
    "profit_sum_early"
   ]
  },
  {
   "cell_type": "code",
   "execution_count": 226,
   "metadata": {},
   "outputs": [
    {
     "data": {
      "text/plain": [
       "19462.641451414904"
      ]
     },
     "execution_count": 226,
     "metadata": {},
     "output_type": "execute_result"
    }
   ],
   "source": [
    "# Calculate the sum of the potential profits for the middle profit per trade DataFrame\n",
    "# YOUR CODE HERE\n",
    "\n",
    "profit_sum_middle = profit_per_trade_middle.sum()\n",
    "profit_sum_middle"
   ]
  },
  {
   "cell_type": "code",
   "execution_count": 227,
   "metadata": {},
   "outputs": [
    {
     "data": {
      "text/plain": [
       "0.010701428145235148"
      ]
     },
     "execution_count": 227,
     "metadata": {},
     "output_type": "execute_result"
    }
   ],
   "source": [
    "# Calculate the sum of the potential profits for the late profit per trade DataFrame\n",
    "# YOUR CODE HERE\n",
    "profit_sum_late = profit_per_trade_late.sum()\n",
    "profit_sum_late"
   ]
  },
  {
   "cell_type": "markdown",
   "metadata": {},
   "source": [
    "#### 8. Using the `cumsum` function, plot the cumulative sum of each of the three DataFrames. Can you identify any patterns or trends in the profits across the three time periods?"
   ]
  },
  {
   "cell_type": "code",
   "execution_count": 228,
   "metadata": {},
   "outputs": [],
   "source": [
    "# Use the cumsum function to calculate the cumulative profits over time for the early profit per trade DataFrame\n",
    "cumulative_profit_early = cumulative_profit_early = profit_per_trade_early.cumsum()"
   ]
  },
  {
   "cell_type": "code",
   "execution_count": 229,
   "metadata": {},
   "outputs": [
    {
     "data": {
      "text/plain": [
       "<AxesSubplot:title={'center':'Cumulative Profits 10/10/2016'}, xlabel='Timestamp'>"
      ]
     },
     "execution_count": 229,
     "metadata": {},
     "output_type": "execute_result"
    },
    {
     "data": {
      "image/png": "[encoded data removed]",
      "text/plain": [
       "<Figure size 720x504 with 1 Axes>"
      ]
     },
     "metadata": {
      "needs_background": "light"
     },
     "output_type": "display_data"
    }
   ],
   "source": [
    "# Plot the cumulative sum of profits for the early profit per trade DataFrame\n",
    "# Be sure to include at least a title with your plot\n",
    "cumulative_profit_early.plot(figsize=(10, 7), title=\"Cumulative Profits 10/10/2016\")"
   ]
  },
  {
   "cell_type": "code",
   "execution_count": 230,
   "metadata": {},
   "outputs": [],
   "source": [
    "# Use the cumsum function to calculate the cumulative profits over time for the middle profit per trade DataFrame\n",
    "cumulative_profit_middle = profit_per_trade_middle.cumsum()\n"
   ]
  },
  {
   "cell_type": "code",
   "execution_count": 231,
   "metadata": {},
   "outputs": [
    {
     "data": {
      "text/plain": [
       "<AxesSubplot:title={'center':'Cumulative Profits 09/15/2017'}, xlabel='Timestamp'>"
      ]
     },
     "execution_count": 231,
     "metadata": {},
     "output_type": "execute_result"
    },
    {
     "data": {
      "image/png": "[encoded data removed]",
      "text/plain": [
       "<Figure size 720x504 with 1 Axes>"
      ]
     },
     "metadata": {
      "needs_background": "light"
     },
     "output_type": "display_data"
    }
   ],
   "source": [
    "# Plot the cumulative sum of profits for the early profit per trade DataFrame\n",
    "# Be sure to include at least a title with your plot\n",
    "# YOUR CODE HERE\n",
    "cumulative_profit_middle.plot(figsize=(10, 7), title=\"Cumulative Profits 09/15/2017\")"
   ]
  },
  {
   "cell_type": "code",
   "execution_count": 232,
   "metadata": {},
   "outputs": [],
   "source": [
    "# Use the cumsum function to calculate the cumulative profits over time for the late profit per trade DataFrame\n",
    "cumulative_profit_late = profit_per_trade_late.cumsum()\n"
   ]
  },
  {
   "cell_type": "code",
   "execution_count": 233,
   "metadata": {},
   "outputs": [
    {
     "data": {
      "text/plain": [
       "<AxesSubplot:title={'center':'Cumulative Profits 10/10/2018'}, xlabel='Timestamp'>"
      ]
     },
     "execution_count": 233,
     "metadata": {},
     "output_type": "execute_result"
    },
    {
     "data": {
      "image/png": "[encoded data removed]",
      "text/plain": [
       "<Figure size 720x504 with 1 Axes>"
      ]
     },
     "metadata": {
      "needs_background": "light"
     },
     "output_type": "display_data"
    }
   ],
   "source": [
    "# Plot the cumulative sum of profits for the early profit per trade DataFrame\n",
    "# Be sure to include at least a title with your plot\n",
    "# YOUR CODE HERE\n",
    "cumulative_profit_late.plot(figsize=(10, 7), title=\"Cumulative Profits 10/10/2018\")"
   ]
  },
  {
   "cell_type": "markdown",
   "metadata": {},
   "source": [
    "**Question:** After reviewing the profit information across each date from the different time periods, can you identify any patterns or trends?\n",
    "    \n",
    "**Answer:** Arbitrage profits are extremely hard to come by at the market for Bitcoin matures across time. As Bitcoin grows in populatiry, the prices across the two exhanges trade more in line with one another. That makes is very difficult find a point where the price difference exceeds the minimum profit threshold of 1%."
   ]
  },
  {
   "cell_type": "code",
   "execution_count": null,
   "metadata": {},
   "outputs": [],
   "source": []
  }
 ],
 "metadata": {
  "kernelspec": {
   "display_name": "Python 3",
   "language": "python",
   "name": "python3"
  },
  "language_info": {
   "codemirror_mode": {
    "name": "ipython",
    "version": 3
   },
   "file_extension": ".py",
   "mimetype": "text/x-python",
   "name": "python",
   "nbconvert_exporter": "python",
   "pygments_lexer": "ipython3",
   "version": "3.7.9"
  }
 },
 "nbformat": 4,
 "nbformat_minor": 4
}
